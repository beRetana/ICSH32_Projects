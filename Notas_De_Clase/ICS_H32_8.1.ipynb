{
 "cells": [
  {
   "cell_type": "markdown",
   "metadata": {},
   "source": [
    "# Using Libraries Other than Python's Standard Library\n",
    "\n",
    "- Using libraries can be as easy as to download them to our files; but managing them is annoying\n",
    "- We should use libraries seperately, project by project to avoid conflicts.\n",
    "- In Python, there are _virtual environments_.\n",
    "- Python has a module called 'venv' that can build virtual environments.\n",
    "\n",
    "### Importing Libraries through the Terminal:\n",
    "- Open up the terminal window (Windows)\n",
    "- Use the commad 'cd' (change directory) to change to a directory\n",
    "- Use the command 'mkdir' (make directory) to make a directory\n",
    "- Use the command 'python -m venv' to create a virtual environment\n",
    "- Use 'cd' to enter the directory \"Scripts\"\n",
    "- Use the command 'activate' to activate the virtual environment\n",
    "- Use the command 'dir'(Windows) to show information about the directory\n",
    "- Use the command '..' to go back to the parent directory\n",
    "- Use 'mkdir' to create a new directory called src\n",
    "- Use 'cd' to enter src\n",
    "- Use the command 'pip install pygame' to install pygame in the virtual environment\n",
    "- Use the command 'python -m idlelib'\n",
    "\n",
    "## EXAMPLE:\n"
   ]
  },
  {
   "cell_type": "code",
   "execution_count": null,
   "metadata": {},
   "outputs": [],
   "source": [
    "import pygame\n",
    "\n",
    "\n",
    "def run() -> None:\n",
    "    try:\n",
    "        pygame.init()\n",
    "        surface = pygame.display.set_mode((700, 600))\n",
    "\n",
    "        color_amount = 0\n",
    "        color_delta = 1\n",
    "        clock = pygame.time.Clock()\n",
    "\n",
    "        running  = True\n",
    "\n",
    "        while running:\n",
    "\n",
    "            clock.tick(30) # frame oer second\n",
    "            \n",
    "            for event in pygame.event.get():\n",
    "                if event.type == pygame.QUIT:\n",
    "                    running = False\n",
    "\n",
    "            color_amount += color_delta\n",
    "\n",
    "            if color_amount == 0 or color_amount == 255:\n",
    "                color_delta = -color_delta\n",
    "\n",
    "            \n",
    "            surface.fill(pygame.Color(color_amount, color_amount, color_amount))\n",
    "\n",
    "            pygame.draw.circle(surface, pygame.Color(255,255,0), (350, 300), 100)\n",
    "\n",
    "            pygame.display.flip()\n",
    "            \n",
    "    finally:\n",
    "        pygame.quit()\n",
    "\n",
    "\n",
    "if __name__ == '__main__':\n",
    "    run()"
   ]
  }
 ],
 "metadata": {
  "kernelspec": {
   "display_name": "Python 3",
   "language": "python",
   "name": "python3"
  },
  "language_info": {
   "name": "python",
   "version": "3.12.6"
  }
 },
 "nbformat": 4,
 "nbformat_minor": 2
}
