{
 "cells": [
  {
   "cell_type": "markdown",
   "metadata": {},
   "source": [
    "# Classes\n",
    "\n",
    "- Classes are a tool to create objects.\n",
    "- All objects in Python have a __class__, which specifies what kind of object they are.\n",
    "- All objects in Python have a collection of _atributes_, which are the information they score.\n",
    "- We should only assign values into the attribute of an object within that object's class.\n",
    "- We should initialize all necessary attributes when an object is constructed.\n",
    "- We should change attrivutes only wihtin an objects's class, only when their new values still meet the \n",
    "necessary constraints."
   ]
  },
  {
   "cell_type": "code",
   "execution_count": null,
   "metadata": {
    "vscode": {
     "languageId": "plaintext"
    }
   },
   "outputs": [],
   "source": []
  }
 ],
 "metadata": {
  "language_info": {
   "name": "python"
  }
 },
 "nbformat": 4,
 "nbformat_minor": 2
}
