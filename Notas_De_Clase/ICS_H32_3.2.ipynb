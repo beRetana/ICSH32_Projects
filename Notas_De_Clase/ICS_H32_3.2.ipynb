{
 "cells": [
  {
   "cell_type": "markdown",
   "metadata": {},
   "source": [
    "# Lecture 3.2 ICS H32"
   ]
  },
  {
   "cell_type": "code",
   "execution_count": 11,
   "metadata": {},
   "outputs": [
    {
     "name": "stdout",
     "output_type": "stream",
     "text": [
      "Hello World\n"
     ]
    }
   ],
   "source": [
    "print(\"Hello World\")"
   ]
  },
  {
   "cell_type": "markdown",
   "metadata": {},
   "source": [
    "A python \"module\" is a file (whose name ends in .py) that contain a collection of 'definitions'"
   ]
  },
  {
   "cell_type": "code",
   "execution_count": null,
   "metadata": {},
   "outputs": [],
   "source": [
    "#Assume this file was called square\n",
    "\n",
    "def square(n: int | float) -> int | float:\n",
    "    return n * n\n",
    "\n",
    "def cude(n: int | float) -> int | float:\n",
    "    return n*n*n"
   ]
  },
  {
   "cell_type": "markdown",
   "metadata": {},
   "source": [
    "### Namespaces \n",
    "* These contain the definitions of variables, functions, classes and other type of definitions inside the module. When we import an external module to our module it will load up the definitions into our module  and the definitions from the imported module also get added into the namespace in our module."
   ]
  },
  {
   "cell_type": "markdown",
   "metadata": {},
   "source": [
    "#### \\_\\_name__\n",
    "* Is the name of a global variable that contains the name of the module. When the module is the initial execution point the value will be just the name of the file. e.g. \"this_file.py\" the value would be \"this_file\" on the other hand if the module is being imported to a different module their name value changes.\n"
   ]
  },
  {
   "cell_type": "code",
   "execution_count": 12,
   "metadata": {},
   "outputs": [
    {
     "name": "stdout",
     "output_type": "stream",
     "text": [
      "This is the module that we started with\n"
     ]
    }
   ],
   "source": [
    "# We only want to run this module if it was the initial execution point\n",
    "\n",
    "if __name__ == \"__main__\":\n",
    "    print(\"This is the module that we started with\")\n"
   ]
  },
  {
   "cell_type": "markdown",
   "metadata": {},
   "source": [
    "#### Public VS Protected\n",
    "\n",
    "+ Public means that you should access definitions from a different module without issues\n",
    "+ Protected means you should stay away from those external definitions"
   ]
  },
  {
   "cell_type": "code",
   "execution_count": 13,
   "metadata": {},
   "outputs": [],
   "source": [
    "_protected_variable = \"this is a protected variable\"\n",
    "public_variable = \"this is a public variable\""
   ]
  },
  {
   "cell_type": "markdown",
   "metadata": {},
   "source": [
    "#### Namedtuples\n",
    "\n",
    "Issues with regular tuples is that we are not sure of what each value in index of a tuple means.\n",
    "A way to fixed this is by using namedtuples.\n",
    "+ It's a library that can be imported to a module."
   ]
  },
  {
   "cell_type": "code",
   "execution_count": 21,
   "metadata": {},
   "outputs": [
    {
     "name": "stdout",
     "output_type": "stream",
     "text": [
      "3\n",
      "4\n",
      "5\n"
     ]
    }
   ],
   "source": [
    "from collections import namedtuple\n",
    "\n",
    "# I want a type that represents the idea of a point in 3-D space.\n",
    "\n",
    "Point = namedtuple(\"Point\", [\"x\", \"y\", \"z\"])\n",
    "\n",
    "# Why the uppercase of the first letter in the variable \n",
    "# - When we name types in python, we'll use Java-like conventions\n",
    "\n",
    "type(Point)\n",
    "\n",
    "Point\n",
    "\n",
    "# Now I can create variables of type Point\n",
    "\n",
    "p1 = Point(3,4,5)\n",
    "\n",
    "print(p1.x)\n",
    "print(p1.y)\n",
    "print(p1.z)"
   ]
  },
  {
   "cell_type": "markdown",
   "metadata": {},
   "source": [
    "Now that we have a costume type we can write easier to read and write code!\n",
    "\n",
    "But what if we want to change the value of a Namedtuple? In this case we can use the method replace."
   ]
  },
  {
   "cell_type": "code",
   "execution_count": 23,
   "metadata": {},
   "outputs": [
    {
     "name": "stdout",
     "output_type": "stream",
     "text": [
      "Point(x=3, y=4, z=5)\n",
      "Point(x=3, y=4, z=10)\n"
     ]
    }
   ],
   "source": [
    "from collections import namedtuple\n",
    "\n",
    "# I want a type that represents the idea of a point in 3-D space.\n",
    "\n",
    "Point = namedtuple(\"Point\", [\"x\", \"y\", \"z\"])\n",
    "\n",
    "p1 = Point(3,4,5)\n",
    "\n",
    "print(p1)\n",
    "\n",
    "p1 = p1._replace(z = 10)\n",
    "\n",
    "print(p1)\n",
    "\n",
    "# To find out the fields of a namedtuple\n",
    "\n",
    "Point._fields"
   ]
  }
 ],
 "metadata": {
  "kernelspec": {
   "display_name": "Python 3",
   "language": "python",
   "name": "python3"
  },
  "language_info": {
   "codemirror_mode": {
    "name": "ipython",
    "version": 3
   },
   "file_extension": ".py",
   "mimetype": "text/x-python",
   "name": "python",
   "nbconvert_exporter": "python",
   "pygments_lexer": "ipython3",
   "version": "3.12.6"
  }
 },
 "nbformat": 4,
 "nbformat_minor": 2
}
