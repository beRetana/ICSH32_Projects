{
 "cells": [
  {
   "cell_type": "markdown",
   "metadata": {},
   "source": [
    "# H32 Lecture Notes 4.1"
   ]
  },
  {
   "cell_type": "markdown",
   "metadata": {},
   "source": [
    "### Sets:\n",
    "They are data structures that don't have an order for their values, don't have duplicates and can be treated as mathematical sets:\n",
    "- Union of sests: Set A | Set B\n",
    "- Intersection of Sets: Set A & Set B\n",
    "- Difference of Sets: Set A - Set B\n",
    "- Symmetric Difference of Sets: Set A ^ Set B\n",
    "- Sets are mutable\n",
    "- Sets have helper methods"
   ]
  },
  {
   "cell_type": "code",
   "execution_count": 2,
   "metadata": {},
   "outputs": [
    {
     "name": "stdout",
     "output_type": "stream",
     "text": [
      "{1, 2, 3, 4, 5, 6, 390, -54645, -34, 3234, -29}\n"
     ]
    }
   ],
   "source": [
    "s = {1,2,3,4,5}\n",
    "s2 = {6,7,155,9,10}\n",
    "\n",
    "s |= {6}\n",
    "s.add(-29)\n",
    "s.update([390,3234,-34,-54645])\n",
    "\n",
    "\n",
    "print(s)"
   ]
  },
  {
   "cell_type": "markdown",
   "metadata": {},
   "source": [
    "It is also possible to make a list out of a set; what will the order be? who knows!"
   ]
  },
  {
   "cell_type": "markdown",
   "metadata": {},
   "source": [
    "### Dictionaries [\"Key\": value]"
   ]
  },
  {
   "cell_type": "markdown",
   "metadata": {},
   "source": [
    "If you iterate a dictionary you get the keys, but not the values!"
   ]
  },
  {
   "cell_type": "code",
   "execution_count": null,
   "metadata": {},
   "outputs": [],
   "source": []
  }
 ],
 "metadata": {
  "kernelspec": {
   "display_name": "Python 3",
   "language": "python",
   "name": "python3"
  },
  "language_info": {
   "codemirror_mode": {
    "name": "ipython",
    "version": 3
   },
   "file_extension": ".py",
   "mimetype": "text/x-python",
   "name": "python",
   "nbconvert_exporter": "python",
   "pygments_lexer": "ipython3",
   "version": "3.12.6"
  }
 },
 "nbformat": 4,
 "nbformat_minor": 2
}
