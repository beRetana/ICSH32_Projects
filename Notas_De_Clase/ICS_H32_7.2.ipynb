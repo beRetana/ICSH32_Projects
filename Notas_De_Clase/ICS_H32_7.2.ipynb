{
 "cells": [
  {
   "cell_type": "markdown",
   "metadata": {},
   "source": [
    "# Test-Driven Development (TDD)\n",
    "\n",
    "Build a program one \"small feature\" at a time.\n",
    " - Something that you can test on it's own\n",
    "\n",
    "1. Pick a new feature to implement\n",
    "2. Write a test that verify it works\n",
    "3. Run the test \n",
    "4. Write the minimum amount of code to make the test pass\n",
    "5. Run the test again\n",
    "6. Check for code smells -- if there are any, fix them, by \"refactoring\"\n",
    "7. Go back to step 1 \n",
    "\n",
    "There's a module in python library called \"Unit test\" == unittest"
   ]
  },
  {
   "cell_type": "code",
   "execution_count": 4,
   "metadata": {},
   "outputs": [
    {
     "name": "stderr",
     "output_type": "stream",
     "text": [
      "usage: ipykernel_launcher.py [-h] [-v] [-q] [--locals] [--durations N] [-f]\n",
      "                             [-c] [-b] [-k TESTNAMEPATTERNS]\n",
      "                             [tests ...]\n",
      "ipykernel_launcher.py: error: argument -f/--failfast: ignored explicit argument '/Users/brandon__lii/Library/Jupyter/runtime/kernel-v3c3e406ff95e52eaacbe84a4c12259e15436a01e4.json'\n"
     ]
    },
    {
     "ename": "SystemExit",
     "evalue": "2",
     "output_type": "error",
     "traceback": [
      "An exception has occurred, use %tb to see the full traceback.\n",
      "\u001b[0;31mSystemExit\u001b[0m\u001b[0;31m:\u001b[0m 2\n"
     ]
    }
   ],
   "source": [
    "# test_sons.py\n",
    "import unittest\n",
    "\n",
    "# Task: size of a newly created collections is zero\n",
    "\n",
    "class SongCollectionTest(unittest.TestCase):\n",
    "    \n",
    "    def test_new_collections_have_size_zero(self):\n",
    "        collection = SongCollection()\n",
    "        collection.size()\n",
    "        # I expect this to be zero\n",
    "        self.assertEqual(collection.size(), 0)\n",
    "\n",
    "\n",
    "if __name__ == '__main__':\n",
    "    unittest.main()"
   ]
  }
 ],
 "metadata": {
  "kernelspec": {
   "display_name": "Python 3",
   "language": "python",
   "name": "python3"
  },
  "language_info": {
   "codemirror_mode": {
    "name": "ipython",
    "version": 3
   },
   "file_extension": ".py",
   "mimetype": "text/x-python",
   "name": "python",
   "nbconvert_exporter": "python",
   "pygments_lexer": "ipython3",
   "version": "3.12.6"
  }
 },
 "nbformat": 4,
 "nbformat_minor": 2
}
