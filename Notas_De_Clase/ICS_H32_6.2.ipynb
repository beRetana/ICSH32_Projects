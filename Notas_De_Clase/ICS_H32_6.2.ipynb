{
 "cells": [
  {
   "cell_type": "markdown",
   "metadata": {},
   "source": [
    "# H32 LECTURE 6.2\n",
    "\n",
    "## Connecting to the WEB\n",
    "\n",
    "YOUTUBE: Shows information about things that you migth be interested in.\n",
    "\n",
    "WEB BROWSER: It connects to a port somewhere and it implements a protocol to establish a communication line.\n",
    "\n",
    "WEB API (Application Programming Interface): Using URLs and HTTP to download information for some machine somewhere in the world.\n",
    "\n",
    "These are all built around _standards_ \n",
    "- URLs can have _query parameters_\n",
    "- ?, &, % denote that all elements after it are a parameter\n",
    "- URL encoding / percent encoding\n",
    "    - spaces in a URL are not allowed, they are replaced by '+' characters\n",
    "    - Other special characters are replaced with '%' followed by a hexadecimal character code\n",
    "\n",
    "### JavaScript Object Notation (JSON)\n",
    "\n",
    "EXAMPLE:\n",
    "\n",
    "{\n",
    "    \"name\": \"Boo\",\n",
    "    \"age\": 13,\n",
    "    \"qualities\": [\"smart\", \"cute\", \"tall\"]\n",
    "}\n",
    "\n",
    "Python has a library that will take JSON files and turn them into python dictionaries."
   ]
  },
  {
   "cell_type": "code",
   "execution_count": 2,
   "metadata": {},
   "outputs": [
    {
     "name": "stdout",
     "output_type": "stream",
     "text": [
      "name=Information&name=Information\n"
     ]
    }
   ],
   "source": [
    "import urllib.parse\n",
    "import json\n",
    "import urllib.request\n",
    "\n",
    "GOOGLE_API_KEY = \"zzzzz\"\n",
    "\n",
    "#Example of using urllib.parse\n",
    "\n",
    "urls = urllib.parse.urlencode([(\"name\", \"Information\"),(\"name\", \"Information\")])\n",
    "print(urls)\n",
    "\n",
    "def build_search_url(search_query: str, max_results: int)-> str:\n",
    "    query_parameters = [\n",
    "        (\"key\", GOOGLE_API_KEY), (\"part\", \"snippet\"),\n",
    "        (\"type\", \"video\"),(\"maxResults\")\n",
    "    ]\n",
    "    \n",
    "\n"
   ]
  }
 ],
 "metadata": {
  "kernelspec": {
   "display_name": "Python 3",
   "language": "python",
   "name": "python3"
  },
  "language_info": {
   "codemirror_mode": {
    "name": "ipython",
    "version": 3
   },
   "file_extension": ".py",
   "mimetype": "text/x-python",
   "name": "python",
   "nbconvert_exporter": "python",
   "pygments_lexer": "ipython3",
   "version": "3.12.6"
  }
 },
 "nbformat": 4,
 "nbformat_minor": 2
}
